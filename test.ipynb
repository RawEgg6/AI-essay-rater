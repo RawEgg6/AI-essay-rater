{
 "cells": [
  {
   "cell_type": "code",
   "execution_count": 2,
   "id": "821c4eab",
   "metadata": {},
   "outputs": [
    {
     "name": "stdout",
     "output_type": "stream",
     "text": [
      "PyTorch version: 2.8.0\n",
      "MPS (Apple Silicon GPU) available: True\n",
      "MPS built: True\n",
      "CUDA available: False\n",
      "✅ You can use Apple Silicon GPU (M1/M2/M3)!\n"
     ]
    }
   ],
   "source": [
    "import torch\n",
    "\n",
    "print(f\"PyTorch version: {torch.__version__}\")\n",
    "print(f\"MPS (Apple Silicon GPU) available: {torch.backends.mps.is_available()}\")\n",
    "print(f\"MPS built: {torch.backends.mps.is_built()}\")\n",
    "print(f\"CUDA available: {torch.cuda.is_available()}\")\n",
    "\n",
    "if torch.backends.mps.is_available():\n",
    "    print(\"✅ You can use Apple Silicon GPU (M1/M2/M3)!\")\n",
    "else:\n",
    "    print(\"⚠️ You're using CPU\")"
   ]
  }
 ],
 "metadata": {
  "kernelspec": {
   "display_name": "Python 3",
   "language": "python",
   "name": "python3"
  },
  "language_info": {
   "codemirror_mode": {
    "name": "ipython",
    "version": 3
   },
   "file_extension": ".py",
   "mimetype": "text/x-python",
   "name": "python",
   "nbconvert_exporter": "python",
   "pygments_lexer": "ipython3",
   "version": "3.11.7"
  }
 },
 "nbformat": 4,
 "nbformat_minor": 5
}
